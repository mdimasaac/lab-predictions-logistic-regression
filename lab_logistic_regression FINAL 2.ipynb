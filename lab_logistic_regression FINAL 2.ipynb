{
 "cells": [
  {
   "cell_type": "code",
   "execution_count": 1,
   "metadata": {},
   "outputs": [],
   "source": [
    "# prep: import modules and get pwd\n",
    "import pymysql\n",
    "from sqlalchemy import create_engine\n",
    "import pandas as pd\n",
    "import getpass  # To get the password without showing the input\n",
    "password = getpass.getpass()"
   ]
  },
  {
   "cell_type": "code",
   "execution_count": 38,
   "metadata": {},
   "outputs": [
    {
     "data": {
      "text/plain": [
       "'\\n1. Create a query or queries to extract the information you think may be relevant\\nfor building the prediction model. It should include some film features and some rental features.\\nUse the data from 2005.\\n2. Create a query to get the list of films and a boolean indicating if it was rented last month (August 2005).\\nThis would be our target variable.\\n3. Read the data into a Pandas dataframe.\\n4. Analyze extracted features and transform them. You may need to encode some categorical variables,\\nor scale numerical variables.\\n5. Create a logistic regression model to predict this variable from the cleaned data.\\n6. Evaluate the results.\\n\\n'"
      ]
     },
     "execution_count": 38,
     "metadata": {},
     "output_type": "execute_result"
    }
   ],
   "source": [
    "'''\n",
    "1. Create a query or queries to extract the information you think may be relevant\n",
    "for building the prediction model. It should include some film features and some rental features.\n",
    "Use the data from 2005.\n",
    "2. Create a query to get the list of films and a boolean indicating if it was rented last month (August 2005).\n",
    "This would be our target variable.\n",
    "3. Read the data into a Pandas dataframe.\n",
    "4. Analyze extracted features and transform them. You may need to encode some categorical variables,\n",
    "or scale numerical variables.\n",
    "5. Create a logistic regression model to predict this variable from the cleaned data.\n",
    "6. Evaluate the results.\n",
    "\n",
    "'''"
   ]
  },
  {
   "cell_type": "code",
   "execution_count": 35,
   "metadata": {},
   "outputs": [],
   "source": [
    "connection_string = 'mysql+pymysql://root:' + password + '@localhost/sakila'\n",
    "engine = create_engine(connection_string)\n",
    "query1 = '''\n",
    "select count(f.film_id), f.title, r.rental_date, \n",
    "f.rental_rate, r.return_date, i.inventory_id, f.length\n",
    "from film f\n",
    "join inventory i on i.film_id = f.film_id\n",
    "join rental r on r.inventory_id = i.inventory_id\n",
    "group by f.title order by r.rental_date desc;\n",
    "'''\n",
    "query2 = '''\n",
    "select distinct f.title, case when\n",
    "(\n",
    "sum(\n",
    "case\n",
    "when date_format((r.rental_date), \"%%m\") = 5 and\n",
    "date_format((r.rental_date), \"%%Y\") = 2005 then True\n",
    "else False\n",
    "end \n",
    ")\n",
    ") >= 1 then 1 else 0 end as rented_in_may_2005\n",
    "from film f\n",
    "join inventory i on i.film_id = f.film_id\n",
    "join rental r on r.inventory_id = i.inventory_id\n",
    "group by f.title;\n",
    "'''\n",
    "\n"
   ]
  },
  {
   "cell_type": "code",
   "execution_count": 36,
   "metadata": {},
   "outputs": [
    {
     "data": {
      "text/html": [
       "<div>\n",
       "<style scoped>\n",
       "    .dataframe tbody tr th:only-of-type {\n",
       "        vertical-align: middle;\n",
       "    }\n",
       "\n",
       "    .dataframe tbody tr th {\n",
       "        vertical-align: top;\n",
       "    }\n",
       "\n",
       "    .dataframe thead th {\n",
       "        text-align: right;\n",
       "    }\n",
       "</style>\n",
       "<table border=\"1\" class=\"dataframe\">\n",
       "  <thead>\n",
       "    <tr style=\"text-align: right;\">\n",
       "      <th></th>\n",
       "      <th>count(f.film_id)</th>\n",
       "      <th>title</th>\n",
       "      <th>rental_date</th>\n",
       "      <th>rental_rate</th>\n",
       "      <th>return_date</th>\n",
       "      <th>inventory_id</th>\n",
       "      <th>length</th>\n",
       "    </tr>\n",
       "  </thead>\n",
       "  <tbody>\n",
       "    <tr>\n",
       "      <th>0</th>\n",
       "      <td>11</td>\n",
       "      <td>GATHERING CALENDAR</td>\n",
       "      <td>2005-08-02 22:34:06</td>\n",
       "      <td>0.99</td>\n",
       "      <td>2005-08-09 00:46:06</td>\n",
       "      <td>1610</td>\n",
       "      <td>176</td>\n",
       "    </tr>\n",
       "    <tr>\n",
       "      <th>1</th>\n",
       "      <td>4</td>\n",
       "      <td>TRAIN BUNCH</td>\n",
       "      <td>2005-08-02 22:18:24</td>\n",
       "      <td>4.99</td>\n",
       "      <td>2005-08-04 21:22:24</td>\n",
       "      <td>4161</td>\n",
       "      <td>71</td>\n",
       "    </tr>\n",
       "    <tr>\n",
       "      <th>2</th>\n",
       "      <td>11</td>\n",
       "      <td>TIES HUNGER</td>\n",
       "      <td>2005-08-02 22:18:13</td>\n",
       "      <td>4.99</td>\n",
       "      <td>2005-08-12 00:43:13</td>\n",
       "      <td>4077</td>\n",
       "      <td>111</td>\n",
       "    </tr>\n",
       "    <tr>\n",
       "      <th>3</th>\n",
       "      <td>12</td>\n",
       "      <td>LIBERTY MAGNIFICENT</td>\n",
       "      <td>2005-08-02 21:48:28</td>\n",
       "      <td>2.99</td>\n",
       "      <td>2005-08-05 23:58:28</td>\n",
       "      <td>2379</td>\n",
       "      <td>138</td>\n",
       "    </tr>\n",
       "    <tr>\n",
       "      <th>4</th>\n",
       "      <td>21</td>\n",
       "      <td>ARIZONA BANG</td>\n",
       "      <td>2005-08-02 21:36:46</td>\n",
       "      <td>2.99</td>\n",
       "      <td>2005-08-10 01:48:46</td>\n",
       "      <td>167</td>\n",
       "      <td>121</td>\n",
       "    </tr>\n",
       "  </tbody>\n",
       "</table>\n",
       "</div>"
      ],
      "text/plain": [
       "   count(f.film_id)                title         rental_date  rental_rate  \\\n",
       "0                11   GATHERING CALENDAR 2005-08-02 22:34:06         0.99   \n",
       "1                 4          TRAIN BUNCH 2005-08-02 22:18:24         4.99   \n",
       "2                11          TIES HUNGER 2005-08-02 22:18:13         4.99   \n",
       "3                12  LIBERTY MAGNIFICENT 2005-08-02 21:48:28         2.99   \n",
       "4                21         ARIZONA BANG 2005-08-02 21:36:46         2.99   \n",
       "\n",
       "          return_date  inventory_id  length  \n",
       "0 2005-08-09 00:46:06          1610     176  \n",
       "1 2005-08-04 21:22:24          4161      71  \n",
       "2 2005-08-12 00:43:13          4077     111  \n",
       "3 2005-08-05 23:58:28          2379     138  \n",
       "4 2005-08-10 01:48:46           167     121  "
      ]
     },
     "metadata": {},
     "output_type": "display_data"
    },
    {
     "data": {
      "text/plain": [
       "(958, 7)"
      ]
     },
     "execution_count": 36,
     "metadata": {},
     "output_type": "execute_result"
    }
   ],
   "source": [
    "data1 = pd.read_sql_query(query1, engine)\n",
    "display(data1.head())\n",
    "data1.shape"
   ]
  },
  {
   "cell_type": "code",
   "execution_count": 37,
   "metadata": {},
   "outputs": [
    {
     "data": {
      "text/html": [
       "<div>\n",
       "<style scoped>\n",
       "    .dataframe tbody tr th:only-of-type {\n",
       "        vertical-align: middle;\n",
       "    }\n",
       "\n",
       "    .dataframe tbody tr th {\n",
       "        vertical-align: top;\n",
       "    }\n",
       "\n",
       "    .dataframe thead th {\n",
       "        text-align: right;\n",
       "    }\n",
       "</style>\n",
       "<table border=\"1\" class=\"dataframe\">\n",
       "  <thead>\n",
       "    <tr style=\"text-align: right;\">\n",
       "      <th></th>\n",
       "      <th>title</th>\n",
       "      <th>rented_in_may_2005</th>\n",
       "    </tr>\n",
       "  </thead>\n",
       "  <tbody>\n",
       "    <tr>\n",
       "      <th>0</th>\n",
       "      <td>ACADEMY DINOSAUR</td>\n",
       "      <td>1</td>\n",
       "    </tr>\n",
       "    <tr>\n",
       "      <th>1</th>\n",
       "      <td>ACE GOLDFINGER</td>\n",
       "      <td>0</td>\n",
       "    </tr>\n",
       "    <tr>\n",
       "      <th>2</th>\n",
       "      <td>ADAPTATION HOLES</td>\n",
       "      <td>1</td>\n",
       "    </tr>\n",
       "    <tr>\n",
       "      <th>3</th>\n",
       "      <td>AFFAIR PREJUDICE</td>\n",
       "      <td>1</td>\n",
       "    </tr>\n",
       "    <tr>\n",
       "      <th>4</th>\n",
       "      <td>AFRICAN EGG</td>\n",
       "      <td>1</td>\n",
       "    </tr>\n",
       "  </tbody>\n",
       "</table>\n",
       "</div>"
      ],
      "text/plain": [
       "              title  rented_in_may_2005\n",
       "0  ACADEMY DINOSAUR                   1\n",
       "1    ACE GOLDFINGER                   0\n",
       "2  ADAPTATION HOLES                   1\n",
       "3  AFFAIR PREJUDICE                   1\n",
       "4       AFRICAN EGG                   1"
      ]
     },
     "metadata": {},
     "output_type": "display_data"
    },
    {
     "data": {
      "text/plain": [
       "(958, 2)"
      ]
     },
     "execution_count": 37,
     "metadata": {},
     "output_type": "execute_result"
    }
   ],
   "source": [
    "data2 = pd.read_sql_query(query2, engine)\n",
    "display(data2.head())\n",
    "data2.shape"
   ]
  },
  {
   "cell_type": "code",
   "execution_count": 43,
   "metadata": {},
   "outputs": [
    {
     "data": {
      "image/png": "[encoded data removed]",
      "text/plain": [
       "<Figure size 1000x800 with 2 Axes>"
      ]
     },
     "metadata": {},
     "output_type": "display_data"
    }
   ],
   "source": [
    "import matplotlib.pyplot as plt\n",
    "import seaborn as sns\n",
    "%matplotlib inline\n",
    "corr_matrix=data1.corr(method='pearson')  # default\n",
    "fig, ax = plt.subplots(figsize=(10, 8))\n",
    "ax = sns.heatmap(corr_matrix, annot=True)\n",
    "plt.show()"
   ]
  },
  {
   "cell_type": "code",
   "execution_count": 38,
   "metadata": {},
   "outputs": [
    {
     "data": {
      "text/html": [
       "<div>\n",
       "<style scoped>\n",
       "    .dataframe tbody tr th:only-of-type {\n",
       "        vertical-align: middle;\n",
       "    }\n",
       "\n",
       "    .dataframe tbody tr th {\n",
       "        vertical-align: top;\n",
       "    }\n",
       "\n",
       "    .dataframe thead th {\n",
       "        text-align: right;\n",
       "    }\n",
       "</style>\n",
       "<table border=\"1\" class=\"dataframe\">\n",
       "  <thead>\n",
       "    <tr style=\"text-align: right;\">\n",
       "      <th></th>\n",
       "      <th>rented_in_may_2005</th>\n",
       "    </tr>\n",
       "  </thead>\n",
       "  <tbody>\n",
       "  </tbody>\n",
       "</table>\n",
       "</div>"
      ],
      "text/plain": [
       "Empty DataFrame\n",
       "Columns: [rented_in_may_2005]\n",
       "Index: []"
      ]
     },
     "metadata": {},
     "output_type": "display_data"
    },
    {
     "data": {
      "text/html": [
       "<div>\n",
       "<style scoped>\n",
       "    .dataframe tbody tr th:only-of-type {\n",
       "        vertical-align: middle;\n",
       "    }\n",
       "\n",
       "    .dataframe tbody tr th {\n",
       "        vertical-align: top;\n",
       "    }\n",
       "\n",
       "    .dataframe thead th {\n",
       "        text-align: right;\n",
       "    }\n",
       "</style>\n",
       "<table border=\"1\" class=\"dataframe\">\n",
       "  <thead>\n",
       "    <tr style=\"text-align: right;\">\n",
       "      <th></th>\n",
       "      <th>count(f.film_id)</th>\n",
       "      <th>title</th>\n",
       "      <th>rental_date</th>\n",
       "      <th>rental_rate</th>\n",
       "      <th>return_date</th>\n",
       "      <th>inventory_id</th>\n",
       "      <th>length</th>\n",
       "    </tr>\n",
       "  </thead>\n",
       "  <tbody>\n",
       "  </tbody>\n",
       "</table>\n",
       "</div>"
      ],
      "text/plain": [
       "Empty DataFrame\n",
       "Columns: [count(f.film_id), title, rental_date, rental_rate, return_date, inventory_id, length]\n",
       "Index: []"
      ]
     },
     "metadata": {},
     "output_type": "display_data"
    }
   ],
   "source": [
    "y = data2[[\"rented_in_may_2005\"]]\n",
    "X = data1\n",
    "display(y.head(0))\n",
    "display(X.head(0))"
   ]
  },
  {
   "cell_type": "code",
   "execution_count": 39,
   "metadata": {},
   "outputs": [],
   "source": [
    "from sklearn.model_selection import train_test_split\n",
    "X_train, X_test, y_train, y_test = train_test_split(X, y, test_size=0.2, random_state=1337)"
   ]
  },
  {
   "cell_type": "code",
   "execution_count": 40,
   "metadata": {},
   "outputs": [],
   "source": [
    "import numpy as np\n",
    "from sklearn.preprocessing import MinMaxScaler\n",
    "# from sklearn.preprocessing import StandardScaler\n",
    "X_train_num = X_train.select_dtypes(include = np.number)\n",
    "# Scaling data\n",
    "transformer = MinMaxScaler().fit(X_train_num) # need to keep transformer\n",
    "X_train_normalized = transformer.transform(X_train_num)\n",
    "X_train_norm = pd.DataFrame(X_train_normalized)"
   ]
  },
  {
   "cell_type": "code",
   "execution_count": 41,
   "metadata": {},
   "outputs": [
    {
     "data": {
      "text/html": [
       "<div>\n",
       "<style scoped>\n",
       "    .dataframe tbody tr th:only-of-type {\n",
       "        vertical-align: middle;\n",
       "    }\n",
       "\n",
       "    .dataframe tbody tr th {\n",
       "        vertical-align: top;\n",
       "    }\n",
       "\n",
       "    .dataframe thead th {\n",
       "        text-align: right;\n",
       "    }\n",
       "</style>\n",
       "<table border=\"1\" class=\"dataframe\">\n",
       "  <thead>\n",
       "    <tr style=\"text-align: right;\">\n",
       "      <th></th>\n",
       "      <th>count(f.film_id)</th>\n",
       "      <th>rental_rate</th>\n",
       "      <th>inventory_id</th>\n",
       "      <th>length</th>\n",
       "    </tr>\n",
       "  </thead>\n",
       "  <tbody>\n",
       "    <tr>\n",
       "      <th>0</th>\n",
       "      <td>0.400000</td>\n",
       "      <td>0.0</td>\n",
       "      <td>0.185761</td>\n",
       "      <td>0.669065</td>\n",
       "    </tr>\n",
       "    <tr>\n",
       "      <th>1</th>\n",
       "      <td>0.466667</td>\n",
       "      <td>0.5</td>\n",
       "      <td>0.717853</td>\n",
       "      <td>0.460432</td>\n",
       "    </tr>\n",
       "    <tr>\n",
       "      <th>2</th>\n",
       "      <td>0.300000</td>\n",
       "      <td>0.0</td>\n",
       "      <td>0.613582</td>\n",
       "      <td>0.028777</td>\n",
       "    </tr>\n",
       "    <tr>\n",
       "      <th>3</th>\n",
       "      <td>0.366667</td>\n",
       "      <td>0.5</td>\n",
       "      <td>0.989266</td>\n",
       "      <td>0.669065</td>\n",
       "    </tr>\n",
       "    <tr>\n",
       "      <th>4</th>\n",
       "      <td>0.266667</td>\n",
       "      <td>0.0</td>\n",
       "      <td>0.820153</td>\n",
       "      <td>0.992806</td>\n",
       "    </tr>\n",
       "  </tbody>\n",
       "</table>\n",
       "</div>"
      ],
      "text/plain": [
       "   count(f.film_id)  rental_rate  inventory_id    length\n",
       "0          0.400000          0.0      0.185761  0.669065\n",
       "1          0.466667          0.5      0.717853  0.460432\n",
       "2          0.300000          0.0      0.613582  0.028777\n",
       "3          0.366667          0.5      0.989266  0.669065\n",
       "4          0.266667          0.0      0.820153  0.992806"
      ]
     },
     "execution_count": 41,
     "metadata": {},
     "output_type": "execute_result"
    }
   ],
   "source": [
    "X_train_norm.columns = X_train_num.columns\n",
    "X_train_norm.head()"
   ]
  },
  {
   "cell_type": "code",
   "execution_count": 48,
   "metadata": {},
   "outputs": [],
   "source": [
    "# X_train_categorical = X_train.select_dtypes(include = np.object)\n",
    "# X_train_cat = pd.get_dummies(X_train_categorical, \n",
    "#                              columns=['title'],\n",
    "#                              drop_first=False)\n",
    "# X_train_cat.head()"
   ]
  },
  {
   "cell_type": "code",
   "execution_count": 49,
   "metadata": {},
   "outputs": [],
   "source": [
    "# X_train_transformed = np.concatenate([X_train_norm, X_train_cat], axis=1)"
   ]
  },
  {
   "cell_type": "code",
   "execution_count": 42,
   "metadata": {},
   "outputs": [
    {
     "name": "stderr",
     "output_type": "stream",
     "text": [
      "d:\\Python 3.10\\lib\\site-packages\\sklearn\\utils\\validation.py:1111: DataConversionWarning: A column-vector y was passed when a 1d array was expected. Please change the shape of y to (n_samples, ), for example using ravel().\n",
      "  y = column_or_1d(y, warn=True)\n"
     ]
    }
   ],
   "source": [
    "from sklearn.linear_model import LogisticRegression\n",
    "classification = LogisticRegression(random_state=0, solver='saga',\n",
    "                  multi_class='multinomial').fit(X_train_norm, y_train)"
   ]
  },
  {
   "cell_type": "code",
   "execution_count": 44,
   "metadata": {},
   "outputs": [],
   "source": [
    "# for numericals\n",
    "X_test_num = X_test.select_dtypes(include = np.number)\n",
    "\n",
    "# Scaling data\n",
    "# we use the transformer that was trained on the training data\n",
    "X_test_normalized = transformer.transform(X_test_num)\n",
    "X_test_norm = pd.DataFrame(X_test_normalized)"
   ]
  },
  {
   "cell_type": "code",
   "execution_count": 52,
   "metadata": {},
   "outputs": [],
   "source": [
    "# # for categoricals\n",
    "# X_test_categorical = X_test.select_dtypes(include = np.object)\n",
    "# X_test_cat = pd.get_dummies(X_test_categorical, \n",
    "#                             columns=['title'],\n",
    "#                             drop_first=False)\n",
    "# # verify that dummies columns are in the same order and that the same column was dropped\n",
    "# display(list(zip(list(X_train_cat.columns),list(X_test_cat.columns))))\n",
    "# # not needed if you treat each dataframe with one_hot_encoder and save the encode (and the column names)\n",
    "\n",
    "# X_test_cat.head()"
   ]
  },
  {
   "cell_type": "code",
   "execution_count": 45,
   "metadata": {},
   "outputs": [
    {
     "name": "stderr",
     "output_type": "stream",
     "text": [
      "d:\\Python 3.10\\lib\\site-packages\\sklearn\\base.py:450: UserWarning: X does not have valid feature names, but LogisticRegression was fitted with feature names\n",
      "  warnings.warn(\n"
     ]
    },
    {
     "data": {
      "text/plain": [
       "array([1, 1, 1, 1, 1, 1, 1, 1, 1, 1, 1, 1, 1, 1, 1, 1, 1, 1, 1, 1, 1, 1,\n",
       "       1, 1, 1, 1, 1, 1, 1, 1, 1, 1, 1, 1, 1, 1, 1, 1, 1, 1, 1, 1, 1, 1,\n",
       "       1, 1, 1, 1, 1, 1, 1, 1, 1, 1, 1, 1, 1, 1, 1, 1, 1, 1, 1, 1, 1, 1,\n",
       "       1, 1, 1, 1, 1, 1, 1, 1, 1, 1, 1, 1, 1, 1, 1, 1, 1, 1, 1, 1, 1, 1,\n",
       "       1, 1, 1, 1, 1, 1, 1, 1, 1, 1, 1, 1, 1, 1, 1, 1, 1, 1, 1, 1, 1, 1,\n",
       "       1, 1, 1, 1, 1, 1, 1, 1, 1, 1, 1, 1, 1, 1, 1, 1, 1, 1, 1, 1, 1, 1,\n",
       "       1, 1, 1, 1, 1, 1, 1, 1, 1, 1, 1, 1, 1, 1, 1, 1, 1, 1, 1, 1, 1, 1,\n",
       "       1, 1, 1, 1, 1, 1, 1, 1, 1, 1, 1, 1, 1, 1, 1, 1, 1, 1, 1, 1, 1, 1,\n",
       "       1, 1, 1, 1, 1, 1, 1, 1, 1, 1, 1, 1, 1, 1, 1, 1], dtype=int64)"
      ]
     },
     "metadata": {},
     "output_type": "display_data"
    },
    {
     "name": "stderr",
     "output_type": "stream",
     "text": [
      "d:\\Python 3.10\\lib\\site-packages\\sklearn\\base.py:450: UserWarning: X does not have valid feature names, but LogisticRegression was fitted with feature names\n",
      "  warnings.warn(\n"
     ]
    },
    {
     "data": {
      "text/plain": [
       "0.734375"
      ]
     },
     "execution_count": 45,
     "metadata": {},
     "output_type": "execute_result"
    }
   ],
   "source": [
    "predictions = classification.predict(X_test_norm)\n",
    "display(predictions)\n",
    "classification.score(X_test_norm, y_test)"
   ]
  },
  {
   "cell_type": "code",
   "execution_count": 71,
   "metadata": {},
   "outputs": [],
   "source": [
    "# no to predict for june\n",
    "query3 = '''\n",
    "select count(f.film_id), f.title, r.rental_date, \n",
    "f.rental_rate, r.return_date, i.inventory_id, f.length\n",
    "from film f\n",
    "join inventory i on i.film_id = f.film_id\n",
    "join rental r on r.inventory_id = i.inventory_id\n",
    "group by f.title order by r.rental_date desc;\n",
    "'''\n",
    "query4 = '''\n",
    "select distinct f.title, case when\n",
    "(\n",
    "sum(\n",
    "case\n",
    "when date_format((r.rental_date), \"%%m\") = 6 and\n",
    "date_format((r.rental_date), \"%%Y\") = 2005 then True\n",
    "else False\n",
    "end \n",
    ")\n",
    ") >= 1 then 1 else 0 end as rented_in_june_2005\n",
    "\n",
    "from film f\n",
    "join inventory i on i.film_id = f.film_id\n",
    "join rental r on r.inventory_id = i.inventory_id\n",
    "group by f.title;\n",
    "'''"
   ]
  },
  {
   "cell_type": "code",
   "execution_count": 72,
   "metadata": {},
   "outputs": [
    {
     "data": {
      "text/html": [
       "<div>\n",
       "<style scoped>\n",
       "    .dataframe tbody tr th:only-of-type {\n",
       "        vertical-align: middle;\n",
       "    }\n",
       "\n",
       "    .dataframe tbody tr th {\n",
       "        vertical-align: top;\n",
       "    }\n",
       "\n",
       "    .dataframe thead th {\n",
       "        text-align: right;\n",
       "    }\n",
       "</style>\n",
       "<table border=\"1\" class=\"dataframe\">\n",
       "  <thead>\n",
       "    <tr style=\"text-align: right;\">\n",
       "      <th></th>\n",
       "      <th>count(f.film_id)</th>\n",
       "      <th>title</th>\n",
       "      <th>rental_date</th>\n",
       "      <th>rental_rate</th>\n",
       "      <th>return_date</th>\n",
       "      <th>inventory_id</th>\n",
       "      <th>length</th>\n",
       "    </tr>\n",
       "  </thead>\n",
       "  <tbody>\n",
       "    <tr>\n",
       "      <th>0</th>\n",
       "      <td>11</td>\n",
       "      <td>GATHERING CALENDAR</td>\n",
       "      <td>2005-08-02 22:34:06</td>\n",
       "      <td>0.99</td>\n",
       "      <td>2005-08-09 00:46:06</td>\n",
       "      <td>1610</td>\n",
       "      <td>176</td>\n",
       "    </tr>\n",
       "    <tr>\n",
       "      <th>1</th>\n",
       "      <td>4</td>\n",
       "      <td>TRAIN BUNCH</td>\n",
       "      <td>2005-08-02 22:18:24</td>\n",
       "      <td>4.99</td>\n",
       "      <td>2005-08-04 21:22:24</td>\n",
       "      <td>4161</td>\n",
       "      <td>71</td>\n",
       "    </tr>\n",
       "    <tr>\n",
       "      <th>2</th>\n",
       "      <td>11</td>\n",
       "      <td>TIES HUNGER</td>\n",
       "      <td>2005-08-02 22:18:13</td>\n",
       "      <td>4.99</td>\n",
       "      <td>2005-08-12 00:43:13</td>\n",
       "      <td>4077</td>\n",
       "      <td>111</td>\n",
       "    </tr>\n",
       "    <tr>\n",
       "      <th>3</th>\n",
       "      <td>12</td>\n",
       "      <td>LIBERTY MAGNIFICENT</td>\n",
       "      <td>2005-08-02 21:48:28</td>\n",
       "      <td>2.99</td>\n",
       "      <td>2005-08-05 23:58:28</td>\n",
       "      <td>2379</td>\n",
       "      <td>138</td>\n",
       "    </tr>\n",
       "    <tr>\n",
       "      <th>4</th>\n",
       "      <td>21</td>\n",
       "      <td>ARIZONA BANG</td>\n",
       "      <td>2005-08-02 21:36:46</td>\n",
       "      <td>2.99</td>\n",
       "      <td>2005-08-10 01:48:46</td>\n",
       "      <td>167</td>\n",
       "      <td>121</td>\n",
       "    </tr>\n",
       "  </tbody>\n",
       "</table>\n",
       "</div>"
      ],
      "text/plain": [
       "   count(f.film_id)                title         rental_date  rental_rate  \\\n",
       "0                11   GATHERING CALENDAR 2005-08-02 22:34:06         0.99   \n",
       "1                 4          TRAIN BUNCH 2005-08-02 22:18:24         4.99   \n",
       "2                11          TIES HUNGER 2005-08-02 22:18:13         4.99   \n",
       "3                12  LIBERTY MAGNIFICENT 2005-08-02 21:48:28         2.99   \n",
       "4                21         ARIZONA BANG 2005-08-02 21:36:46         2.99   \n",
       "\n",
       "          return_date  inventory_id  length  \n",
       "0 2005-08-09 00:46:06          1610     176  \n",
       "1 2005-08-04 21:22:24          4161      71  \n",
       "2 2005-08-12 00:43:13          4077     111  \n",
       "3 2005-08-05 23:58:28          2379     138  \n",
       "4 2005-08-10 01:48:46           167     121  "
      ]
     },
     "metadata": {},
     "output_type": "display_data"
    },
    {
     "data": {
      "text/plain": [
       "(958, 7)"
      ]
     },
     "execution_count": 72,
     "metadata": {},
     "output_type": "execute_result"
    }
   ],
   "source": [
    "data3 = pd.read_sql_query(query3, engine)\n",
    "display(data3.head())\n",
    "data3.shape"
   ]
  },
  {
   "cell_type": "code",
   "execution_count": 73,
   "metadata": {},
   "outputs": [
    {
     "data": {
      "text/html": [
       "<div>\n",
       "<style scoped>\n",
       "    .dataframe tbody tr th:only-of-type {\n",
       "        vertical-align: middle;\n",
       "    }\n",
       "\n",
       "    .dataframe tbody tr th {\n",
       "        vertical-align: top;\n",
       "    }\n",
       "\n",
       "    .dataframe thead th {\n",
       "        text-align: right;\n",
       "    }\n",
       "</style>\n",
       "<table border=\"1\" class=\"dataframe\">\n",
       "  <thead>\n",
       "    <tr style=\"text-align: right;\">\n",
       "      <th></th>\n",
       "      <th>title</th>\n",
       "      <th>rented_in_june_2005</th>\n",
       "    </tr>\n",
       "  </thead>\n",
       "  <tbody>\n",
       "    <tr>\n",
       "      <th>0</th>\n",
       "      <td>ACADEMY DINOSAUR</td>\n",
       "      <td>1</td>\n",
       "    </tr>\n",
       "    <tr>\n",
       "      <th>1</th>\n",
       "      <td>ACE GOLDFINGER</td>\n",
       "      <td>0</td>\n",
       "    </tr>\n",
       "    <tr>\n",
       "      <th>2</th>\n",
       "      <td>ADAPTATION HOLES</td>\n",
       "      <td>1</td>\n",
       "    </tr>\n",
       "    <tr>\n",
       "      <th>3</th>\n",
       "      <td>AFFAIR PREJUDICE</td>\n",
       "      <td>1</td>\n",
       "    </tr>\n",
       "    <tr>\n",
       "      <th>4</th>\n",
       "      <td>AFRICAN EGG</td>\n",
       "      <td>1</td>\n",
       "    </tr>\n",
       "  </tbody>\n",
       "</table>\n",
       "</div>"
      ],
      "text/plain": [
       "              title  rented_in_june_2005\n",
       "0  ACADEMY DINOSAUR                    1\n",
       "1    ACE GOLDFINGER                    0\n",
       "2  ADAPTATION HOLES                    1\n",
       "3  AFFAIR PREJUDICE                    1\n",
       "4       AFRICAN EGG                    1"
      ]
     },
     "metadata": {},
     "output_type": "display_data"
    },
    {
     "data": {
      "text/plain": [
       "(958, 2)"
      ]
     },
     "execution_count": 73,
     "metadata": {},
     "output_type": "execute_result"
    }
   ],
   "source": [
    "data4 = pd.read_sql_query(query4, engine)\n",
    "display(data4.head())\n",
    "data4.shape"
   ]
  },
  {
   "cell_type": "code",
   "execution_count": 74,
   "metadata": {},
   "outputs": [
    {
     "data": {
      "text/html": [
       "<div>\n",
       "<style scoped>\n",
       "    .dataframe tbody tr th:only-of-type {\n",
       "        vertical-align: middle;\n",
       "    }\n",
       "\n",
       "    .dataframe tbody tr th {\n",
       "        vertical-align: top;\n",
       "    }\n",
       "\n",
       "    .dataframe thead th {\n",
       "        text-align: right;\n",
       "    }\n",
       "</style>\n",
       "<table border=\"1\" class=\"dataframe\">\n",
       "  <thead>\n",
       "    <tr style=\"text-align: right;\">\n",
       "      <th></th>\n",
       "      <th>rented_in_june_2005</th>\n",
       "    </tr>\n",
       "  </thead>\n",
       "  <tbody>\n",
       "    <tr>\n",
       "      <th>0</th>\n",
       "      <td>1</td>\n",
       "    </tr>\n",
       "    <tr>\n",
       "      <th>1</th>\n",
       "      <td>0</td>\n",
       "    </tr>\n",
       "    <tr>\n",
       "      <th>2</th>\n",
       "      <td>1</td>\n",
       "    </tr>\n",
       "    <tr>\n",
       "      <th>3</th>\n",
       "      <td>1</td>\n",
       "    </tr>\n",
       "    <tr>\n",
       "      <th>4</th>\n",
       "      <td>1</td>\n",
       "    </tr>\n",
       "  </tbody>\n",
       "</table>\n",
       "</div>"
      ],
      "text/plain": [
       "   rented_in_june_2005\n",
       "0                    1\n",
       "1                    0\n",
       "2                    1\n",
       "3                    1\n",
       "4                    1"
      ]
     },
     "metadata": {},
     "output_type": "display_data"
    },
    {
     "data": {
      "text/html": [
       "<div>\n",
       "<style scoped>\n",
       "    .dataframe tbody tr th:only-of-type {\n",
       "        vertical-align: middle;\n",
       "    }\n",
       "\n",
       "    .dataframe tbody tr th {\n",
       "        vertical-align: top;\n",
       "    }\n",
       "\n",
       "    .dataframe thead th {\n",
       "        text-align: right;\n",
       "    }\n",
       "</style>\n",
       "<table border=\"1\" class=\"dataframe\">\n",
       "  <thead>\n",
       "    <tr style=\"text-align: right;\">\n",
       "      <th></th>\n",
       "      <th>count(f.film_id)</th>\n",
       "      <th>title</th>\n",
       "      <th>rental_date</th>\n",
       "      <th>rental_rate</th>\n",
       "      <th>return_date</th>\n",
       "      <th>inventory_id</th>\n",
       "      <th>length</th>\n",
       "    </tr>\n",
       "  </thead>\n",
       "  <tbody>\n",
       "    <tr>\n",
       "      <th>0</th>\n",
       "      <td>11</td>\n",
       "      <td>GATHERING CALENDAR</td>\n",
       "      <td>2005-08-02 22:34:06</td>\n",
       "      <td>0.99</td>\n",
       "      <td>2005-08-09 00:46:06</td>\n",
       "      <td>1610</td>\n",
       "      <td>176</td>\n",
       "    </tr>\n",
       "    <tr>\n",
       "      <th>1</th>\n",
       "      <td>4</td>\n",
       "      <td>TRAIN BUNCH</td>\n",
       "      <td>2005-08-02 22:18:24</td>\n",
       "      <td>4.99</td>\n",
       "      <td>2005-08-04 21:22:24</td>\n",
       "      <td>4161</td>\n",
       "      <td>71</td>\n",
       "    </tr>\n",
       "    <tr>\n",
       "      <th>2</th>\n",
       "      <td>11</td>\n",
       "      <td>TIES HUNGER</td>\n",
       "      <td>2005-08-02 22:18:13</td>\n",
       "      <td>4.99</td>\n",
       "      <td>2005-08-12 00:43:13</td>\n",
       "      <td>4077</td>\n",
       "      <td>111</td>\n",
       "    </tr>\n",
       "    <tr>\n",
       "      <th>3</th>\n",
       "      <td>12</td>\n",
       "      <td>LIBERTY MAGNIFICENT</td>\n",
       "      <td>2005-08-02 21:48:28</td>\n",
       "      <td>2.99</td>\n",
       "      <td>2005-08-05 23:58:28</td>\n",
       "      <td>2379</td>\n",
       "      <td>138</td>\n",
       "    </tr>\n",
       "    <tr>\n",
       "      <th>4</th>\n",
       "      <td>21</td>\n",
       "      <td>ARIZONA BANG</td>\n",
       "      <td>2005-08-02 21:36:46</td>\n",
       "      <td>2.99</td>\n",
       "      <td>2005-08-10 01:48:46</td>\n",
       "      <td>167</td>\n",
       "      <td>121</td>\n",
       "    </tr>\n",
       "  </tbody>\n",
       "</table>\n",
       "</div>"
      ],
      "text/plain": [
       "   count(f.film_id)                title         rental_date  rental_rate  \\\n",
       "0                11   GATHERING CALENDAR 2005-08-02 22:34:06         0.99   \n",
       "1                 4          TRAIN BUNCH 2005-08-02 22:18:24         4.99   \n",
       "2                11          TIES HUNGER 2005-08-02 22:18:13         4.99   \n",
       "3                12  LIBERTY MAGNIFICENT 2005-08-02 21:48:28         2.99   \n",
       "4                21         ARIZONA BANG 2005-08-02 21:36:46         2.99   \n",
       "\n",
       "          return_date  inventory_id  length  \n",
       "0 2005-08-09 00:46:06          1610     176  \n",
       "1 2005-08-04 21:22:24          4161      71  \n",
       "2 2005-08-12 00:43:13          4077     111  \n",
       "3 2005-08-05 23:58:28          2379     138  \n",
       "4 2005-08-10 01:48:46           167     121  "
      ]
     },
     "metadata": {},
     "output_type": "display_data"
    },
    {
     "data": {
      "text/html": [
       "<div>\n",
       "<style scoped>\n",
       "    .dataframe tbody tr th:only-of-type {\n",
       "        vertical-align: middle;\n",
       "    }\n",
       "\n",
       "    .dataframe tbody tr th {\n",
       "        vertical-align: top;\n",
       "    }\n",
       "\n",
       "    .dataframe thead th {\n",
       "        text-align: right;\n",
       "    }\n",
       "</style>\n",
       "<table border=\"1\" class=\"dataframe\">\n",
       "  <thead>\n",
       "    <tr style=\"text-align: right;\">\n",
       "      <th></th>\n",
       "      <th>rented_in_june_2005</th>\n",
       "    </tr>\n",
       "  </thead>\n",
       "  <tbody>\n",
       "    <tr>\n",
       "      <th>953</th>\n",
       "      <td>1</td>\n",
       "    </tr>\n",
       "    <tr>\n",
       "      <th>954</th>\n",
       "      <td>1</td>\n",
       "    </tr>\n",
       "    <tr>\n",
       "      <th>955</th>\n",
       "      <td>1</td>\n",
       "    </tr>\n",
       "    <tr>\n",
       "      <th>956</th>\n",
       "      <td>1</td>\n",
       "    </tr>\n",
       "    <tr>\n",
       "      <th>957</th>\n",
       "      <td>1</td>\n",
       "    </tr>\n",
       "  </tbody>\n",
       "</table>\n",
       "</div>"
      ],
      "text/plain": [
       "     rented_in_june_2005\n",
       "953                    1\n",
       "954                    1\n",
       "955                    1\n",
       "956                    1\n",
       "957                    1"
      ]
     },
     "metadata": {},
     "output_type": "display_data"
    },
    {
     "data": {
      "text/html": [
       "<div>\n",
       "<style scoped>\n",
       "    .dataframe tbody tr th:only-of-type {\n",
       "        vertical-align: middle;\n",
       "    }\n",
       "\n",
       "    .dataframe tbody tr th {\n",
       "        vertical-align: top;\n",
       "    }\n",
       "\n",
       "    .dataframe thead th {\n",
       "        text-align: right;\n",
       "    }\n",
       "</style>\n",
       "<table border=\"1\" class=\"dataframe\">\n",
       "  <thead>\n",
       "    <tr style=\"text-align: right;\">\n",
       "      <th></th>\n",
       "      <th>count(f.film_id)</th>\n",
       "      <th>title</th>\n",
       "      <th>rental_date</th>\n",
       "      <th>rental_rate</th>\n",
       "      <th>return_date</th>\n",
       "      <th>inventory_id</th>\n",
       "      <th>length</th>\n",
       "    </tr>\n",
       "  </thead>\n",
       "  <tbody>\n",
       "    <tr>\n",
       "      <th>953</th>\n",
       "      <td>31</td>\n",
       "      <td>APACHE DIVINE</td>\n",
       "      <td>2005-05-25 01:59:46</td>\n",
       "      <td>4.99</td>\n",
       "      <td>2005-05-26 01:01:46</td>\n",
       "      <td>146</td>\n",
       "      <td>92</td>\n",
       "    </tr>\n",
       "    <tr>\n",
       "      <th>954</th>\n",
       "      <td>24</td>\n",
       "      <td>ROMAN PUNK</td>\n",
       "      <td>2005-05-25 01:10:47</td>\n",
       "      <td>0.99</td>\n",
       "      <td>2005-05-31 06:35:47</td>\n",
       "      <td>3376</td>\n",
       "      <td>81</td>\n",
       "    </tr>\n",
       "    <tr>\n",
       "      <th>955</th>\n",
       "      <td>26</td>\n",
       "      <td>PELICAN COMFORTS</td>\n",
       "      <td>2005-05-25 00:39:22</td>\n",
       "      <td>4.99</td>\n",
       "      <td>2005-06-03 03:30:22</td>\n",
       "      <td>3049</td>\n",
       "      <td>48</td>\n",
       "    </tr>\n",
       "    <tr>\n",
       "      <th>956</th>\n",
       "      <td>9</td>\n",
       "      <td>KING EVOLUTION</td>\n",
       "      <td>2005-05-25 00:22:55</td>\n",
       "      <td>4.99</td>\n",
       "      <td>2005-05-30 04:28:55</td>\n",
       "      <td>2294</td>\n",
       "      <td>184</td>\n",
       "    </tr>\n",
       "    <tr>\n",
       "      <th>957</th>\n",
       "      <td>10</td>\n",
       "      <td>MYSTIC TRUMAN</td>\n",
       "      <td>2005-05-24 23:08:07</td>\n",
       "      <td>0.99</td>\n",
       "      <td>2005-05-27 01:32:07</td>\n",
       "      <td>2792</td>\n",
       "      <td>92</td>\n",
       "    </tr>\n",
       "  </tbody>\n",
       "</table>\n",
       "</div>"
      ],
      "text/plain": [
       "     count(f.film_id)             title         rental_date  rental_rate  \\\n",
       "953                31     APACHE DIVINE 2005-05-25 01:59:46         4.99   \n",
       "954                24        ROMAN PUNK 2005-05-25 01:10:47         0.99   \n",
       "955                26  PELICAN COMFORTS 2005-05-25 00:39:22         4.99   \n",
       "956                 9    KING EVOLUTION 2005-05-25 00:22:55         4.99   \n",
       "957                10     MYSTIC TRUMAN 2005-05-24 23:08:07         0.99   \n",
       "\n",
       "            return_date  inventory_id  length  \n",
       "953 2005-05-26 01:01:46           146      92  \n",
       "954 2005-05-31 06:35:47          3376      81  \n",
       "955 2005-06-03 03:30:22          3049      48  \n",
       "956 2005-05-30 04:28:55          2294     184  \n",
       "957 2005-05-27 01:32:07          2792      92  "
      ]
     },
     "metadata": {},
     "output_type": "display_data"
    }
   ],
   "source": [
    "y_new = data4[[\"rented_in_june_2005\"]]\n",
    "X_new = data3\n",
    "display(y_new.head())\n",
    "display(X_new.head())\n",
    "display(y_new.tail())\n",
    "display(X_new.tail())"
   ]
  },
  {
   "cell_type": "code",
   "execution_count": 75,
   "metadata": {},
   "outputs": [],
   "source": [
    "# for numericals\n",
    "X_new_num = X_new.select_dtypes(include = np.number)\n",
    "\n",
    "# Scaling data\n",
    "# we use the transformer that was trained on the training data\n",
    "X_new_normalized = transformer.transform(X_new_num)\n",
    "X_new_norm = pd.DataFrame(X_new_normalized)"
   ]
  },
  {
   "cell_type": "code",
   "execution_count": 76,
   "metadata": {},
   "outputs": [
    {
     "name": "stderr",
     "output_type": "stream",
     "text": [
      "d:\\Python 3.10\\lib\\site-packages\\sklearn\\base.py:450: UserWarning: X does not have valid feature names, but LogisticRegression was fitted with feature names\n",
      "  warnings.warn(\n"
     ]
    },
    {
     "data": {
      "text/plain": [
       "array([1, 1, 1, 1, 1, 1, 1, 1, 1, 1, 1, 1, 1, 1, 1, 1, 1, 1, 1, 1, 1, 1,\n",
       "       1, 1, 1, 1, 1, 1, 1, 1, 1, 1, 1, 1, 1, 1, 1, 1, 1, 1, 1, 1, 1, 1,\n",
       "       1, 1, 1, 1, 1, 1, 1, 1, 1, 1, 1, 1, 1, 1, 1, 1, 1, 1, 1, 1, 1, 1,\n",
       "       1, 1, 1, 1, 1, 1, 1, 1, 1, 1, 1, 1, 1, 1, 1, 1, 1, 1, 1, 1, 1, 1,\n",
       "       1, 1, 1, 1, 1, 1, 1, 1, 1, 1, 1, 1, 1, 1, 1, 1, 1, 1, 1, 1, 1, 1,\n",
       "       1, 1, 1, 1, 1, 1, 1, 1, 1, 1, 1, 1, 1, 1, 1, 1, 1, 1, 1, 1, 1, 1,\n",
       "       1, 1, 1, 1, 1, 1, 1, 1, 1, 1, 1, 1, 1, 1, 1, 1, 1, 1, 1, 1, 1, 1,\n",
       "       1, 1, 1, 1, 1, 1, 1, 1, 1, 1, 1, 1, 1, 1, 1, 1, 1, 1, 1, 1, 1, 1,\n",
       "       1, 1, 1, 1, 1, 1, 1, 1, 1, 1, 1, 1, 1, 1, 1, 1, 1, 1, 1, 1, 1, 1,\n",
       "       1, 1, 1, 1, 1, 1, 1, 1, 1, 1, 1, 1, 1, 1, 1, 1, 1, 1, 1, 1, 1, 1,\n",
       "       1, 1, 1, 1, 1, 1, 1, 1, 1, 1, 1, 1, 1, 1, 1, 1, 1, 1, 1, 1, 1, 1,\n",
       "       1, 1, 1, 1, 1, 1, 1, 1, 1, 1, 1, 1, 1, 1, 1, 1, 1, 1, 1, 1, 1, 1,\n",
       "       1, 1, 1, 1, 1, 1, 1, 1, 1, 1, 1, 1, 1, 1, 1, 1, 1, 1, 1, 1, 1, 1,\n",
       "       1, 1, 1, 1, 1, 1, 1, 1, 1, 1, 1, 1, 1, 1, 1, 1, 1, 1, 1, 1, 1, 1,\n",
       "       1, 1, 1, 1, 1, 1, 1, 1, 1, 1, 1, 1, 1, 1, 1, 1, 1, 1, 1, 1, 1, 1,\n",
       "       1, 1, 1, 1, 1, 1, 1, 1, 1, 1, 1, 1, 1, 1, 1, 1, 1, 1, 1, 1, 1, 1,\n",
       "       1, 1, 1, 1, 1, 1, 1, 1, 1, 1, 1, 1, 1, 1, 1, 1, 1, 1, 1, 1, 1, 1,\n",
       "       1, 1, 1, 1, 1, 1, 1, 1, 1, 1, 1, 1, 1, 1, 1, 1, 1, 1, 1, 1, 1, 1,\n",
       "       1, 1, 1, 1, 1, 1, 1, 1, 1, 1, 1, 1, 1, 1, 1, 1, 1, 1, 1, 1, 1, 1,\n",
       "       1, 1, 1, 1, 1, 1, 1, 1, 1, 1, 1, 1, 1, 1, 1, 1, 1, 1, 1, 1, 1, 1,\n",
       "       1, 1, 1, 1, 1, 1, 1, 1, 1, 1, 1, 1, 1, 1, 1, 1, 1, 1, 1, 1, 1, 1,\n",
       "       1, 1, 1, 1, 1, 1, 1, 1, 1, 1, 1, 1, 1, 1, 1, 1, 1, 1, 1, 1, 1, 1,\n",
       "       1, 1, 1, 1, 1, 1, 1, 1, 1, 1, 1, 1, 1, 1, 1, 1, 1, 1, 1, 1, 1, 1,\n",
       "       1, 1, 1, 1, 1, 1, 1, 1, 1, 1, 1, 1, 1, 1, 1, 1, 1, 1, 1, 1, 1, 1,\n",
       "       1, 1, 1, 1, 1, 1, 1, 1, 1, 1, 1, 1, 1, 1, 1, 1, 1, 1, 1, 1, 1, 1,\n",
       "       1, 1, 1, 1, 1, 1, 1, 1, 1, 1, 1, 1, 1, 1, 1, 1, 1, 1, 1, 1, 1, 1,\n",
       "       1, 1, 1, 1, 1, 1, 1, 1, 1, 1, 1, 1, 1, 1, 1, 1, 1, 1, 1, 1, 1, 1,\n",
       "       1, 1, 1, 1, 1, 1, 1, 1, 1, 1, 1, 1, 1, 1, 1, 1, 1, 1, 1, 1, 1, 1,\n",
       "       1, 1, 1, 1, 1, 1, 1, 1, 1, 1, 1, 1, 1, 1, 1, 1, 1, 1, 1, 1, 1, 1,\n",
       "       1, 1, 1, 1, 1, 1, 1, 1, 1, 1, 1, 1, 1, 1, 1, 1, 1, 1, 1, 1, 1, 1,\n",
       "       1, 1, 1, 1, 1, 1, 1, 1, 1, 1, 1, 1, 1, 1, 1, 1, 1, 1, 1, 1, 1, 1,\n",
       "       1, 1, 1, 1, 1, 1, 1, 1, 1, 1, 1, 1, 1, 1, 1, 1, 1, 1, 1, 1, 1, 1,\n",
       "       1, 1, 1, 1, 1, 1, 1, 1, 1, 1, 1, 1, 1, 1, 1, 1, 1, 1, 1, 1, 1, 1,\n",
       "       1, 1, 1, 1, 1, 1, 1, 1, 1, 1, 1, 1, 1, 1, 1, 1, 1, 1, 1, 1, 1, 1,\n",
       "       1, 1, 1, 1, 1, 1, 1, 1, 1, 1, 1, 1, 1, 1, 1, 1, 1, 1, 1, 1, 1, 1,\n",
       "       1, 1, 1, 1, 1, 1, 1, 1, 1, 1, 1, 1, 1, 1, 1, 1, 1, 1, 1, 1, 1, 1,\n",
       "       1, 1, 1, 1, 1, 1, 1, 1, 1, 1, 1, 1, 1, 1, 1, 1, 1, 1, 1, 1, 1, 1,\n",
       "       1, 1, 1, 1, 1, 1, 1, 1, 1, 1, 1, 1, 1, 1, 1, 1, 1, 1, 1, 1, 1, 1,\n",
       "       1, 1, 1, 1, 1, 1, 1, 1, 1, 1, 1, 1, 1, 1, 1, 1, 1, 1, 1, 1, 1, 1,\n",
       "       1, 1, 1, 1, 1, 1, 1, 1, 1, 1, 1, 1, 1, 1, 1, 1, 1, 1, 1, 1, 1, 1,\n",
       "       1, 1, 1, 1, 1, 1, 1, 1, 1, 1, 1, 1, 1, 1, 1, 1, 1, 1, 1, 1, 1, 1,\n",
       "       1, 1, 1, 1, 1, 1, 1, 1, 1, 1, 1, 1, 1, 1, 1, 1, 1, 1, 1, 1, 1, 1,\n",
       "       1, 1, 1, 1, 1, 1, 1, 1, 1, 1, 1, 1, 1, 1, 1, 1, 1, 1, 1, 1, 1, 1,\n",
       "       1, 1, 1, 1, 1, 1, 1, 1, 1, 1, 1, 1], dtype=int64)"
      ]
     },
     "metadata": {},
     "output_type": "display_data"
    },
    {
     "name": "stderr",
     "output_type": "stream",
     "text": [
      "d:\\Python 3.10\\lib\\site-packages\\sklearn\\base.py:450: UserWarning: X does not have valid feature names, but LogisticRegression was fitted with feature names\n",
      "  warnings.warn(\n"
     ]
    },
    {
     "data": {
      "text/plain": [
       "0.9394572025052192"
      ]
     },
     "execution_count": 76,
     "metadata": {},
     "output_type": "execute_result"
    }
   ],
   "source": [
    "predictions_new = classification.predict(X_new_norm)\n",
    "display(predictions_new)\n",
    "classification.score(X_new_norm, y_new)"
   ]
  }
 ],
 "metadata": {
  "kernelspec": {
   "display_name": "Python 3.10.2 64-bit",
   "language": "python",
   "name": "python3"
  },
  "language_info": {
   "codemirror_mode": {
    "name": "ipython",
    "version": 3
   },
   "file_extension": ".py",
   "mimetype": "text/x-python",
   "name": "python",
   "nbconvert_exporter": "python",
   "pygments_lexer": "ipython3",
   "version": "3.10.2"
  },
  "orig_nbformat": 4,
  "vscode": {
   "interpreter": {
    "hash": "1acc24bd1901f9ae8c29efb6830fcc1ca9fe0219dd00f8f1dc1b91856def15a9"
   }
  }
 },
 "nbformat": 4,
 "nbformat_minor": 2
}
