{
 "cells": [
  {
   "cell_type": "code",
   "execution_count": 3,
   "metadata": {},
   "outputs": [],
   "source": [
    "# prep: import modules and get pwd\n",
    "import pymysql\n",
    "from sqlalchemy import create_engine\n",
    "import pandas as pd\n",
    "import getpass  # To get the password without showing the input\n",
    "password = getpass.getpass()"
   ]
  },
  {
   "cell_type": "code",
   "execution_count": 32,
   "metadata": {},
   "outputs": [
    {
     "data": {
      "text/plain": [
       "'\\n1. Create a query or queries to extract the information you think may be relevant\\nfor building the prediction model. It should include some film features and some rental features.\\nUse the data from 2005.\\n2. Create a query to get the list of films and a boolean indicating if it was rented last month (August 2005).\\nThis would be our target variable.\\n3. Read the data into a Pandas dataframe.\\n4. Analyze extracted features and transform them. You may need to encode some categorical variables,\\nor scale numerical variables.\\n5. Create a logistic regression model to predict this variable from the cleaned data.\\n6. Evaluate the results.\\n\\n'"
      ]
     },
     "execution_count": 32,
     "metadata": {},
     "output_type": "execute_result"
    }
   ],
   "source": [
    "'''\n",
    "1. Create a query or queries to extract the information you think may be relevant\n",
    "for building the prediction model. It should include some film features and some rental features.\n",
    "Use the data from 2005.\n",
    "2. Create a query to get the list of films and a boolean indicating if it was rented last month (August 2005).\n",
    "This would be our target variable.\n",
    "3. Read the data into a Pandas dataframe.\n",
    "4. Analyze extracted features and transform them. You may need to encode some categorical variables,\n",
    "or scale numerical variables.\n",
    "5. Create a logistic regression model to predict this variable from the cleaned data.\n",
    "6. Evaluate the results.\n",
    "\n",
    "'''"
   ]
  },
  {
   "cell_type": "code",
   "execution_count": 4,
   "metadata": {},
   "outputs": [],
   "source": [
    "connection_string = 'mysql+pymysql://root:' + password + '@localhost/sakila'\n",
    "engine = create_engine(connection_string)\n",
    "query1 = '''\n",
    "select distinct f.film_id, f.title, r.rental_date, \n",
    "f.rental_rate, r.return_date, i.inventory_id, f.length,\n",
    "case when\n",
    "(\n",
    "sum(\n",
    "case\n",
    "when date_format((r.rental_date), \"%%M\") = \"May\" and\n",
    "date_format((r.rental_date), \"%%Y\") = 2005 then True\n",
    "else False\n",
    "end \n",
    ")\n",
    ") >= 1 then 1 else 0 end as rented_in_may_2005\n",
    "\n",
    "from film f\n",
    "join inventory i on i.film_id = f.film_id\n",
    "join rental r on r.inventory_id = i.inventory_id\n",
    "where date_format((r.rental_date), \"%%Y\") = 2005\n",
    "group by f.title;\n",
    "'''\n",
    "query2 = '''\n",
    "select distinct f.title, case when\n",
    "(\n",
    "sum(\n",
    "case\n",
    "when date_format((r.rental_date), \"%%M\") = \"May\" and\n",
    "date_format((r.rental_date), \"%%Y\") = 2005 then True\n",
    "else False\n",
    "end \n",
    ")\n",
    ") >= 1 then 1 else 0 end as rented_in_may_2005\n",
    "\n",
    "from film f\n",
    "join inventory i on i.film_id = f.film_id\n",
    "join rental r on r.inventory_id = i.inventory_id\n",
    "group by f.title;\n",
    "'''\n",
    "\n",
    "query3 = '''\n",
    "select distinct f.film_id, f.title, r.rental_date, \n",
    "f.rental_rate, r.return_date, i.inventory_id, f.length,\n",
    "case when\n",
    "(\n",
    "sum(\n",
    "case\n",
    "when date_format((r.rental_date), \"%%M\") = \"June\" and\n",
    "date_format((r.rental_date), \"%%Y\") = 2005 then True\n",
    "else False\n",
    "end \n",
    ")\n",
    ") >= 1 then 1 else 0 end as rented_in_june_2005\n",
    "\n",
    "from film f\n",
    "join inventory i on i.film_id = f.film_id\n",
    "join rental r on r.inventory_id = i.inventory_id\n",
    "group by f.title;\n",
    "'''"
   ]
  },
  {
   "cell_type": "code",
   "execution_count": 5,
   "metadata": {},
   "outputs": [
    {
     "data": {
      "text/html": [
       "<div>\n",
       "<style scoped>\n",
       "    .dataframe tbody tr th:only-of-type {\n",
       "        vertical-align: middle;\n",
       "    }\n",
       "\n",
       "    .dataframe tbody tr th {\n",
       "        vertical-align: top;\n",
       "    }\n",
       "\n",
       "    .dataframe thead th {\n",
       "        text-align: right;\n",
       "    }\n",
       "</style>\n",
       "<table border=\"1\" class=\"dataframe\">\n",
       "  <thead>\n",
       "    <tr style=\"text-align: right;\">\n",
       "      <th></th>\n",
       "      <th>film_id</th>\n",
       "      <th>title</th>\n",
       "      <th>rental_date</th>\n",
       "      <th>rental_rate</th>\n",
       "      <th>return_date</th>\n",
       "      <th>inventory_id</th>\n",
       "      <th>length</th>\n",
       "      <th>rented_in_may_2005</th>\n",
       "    </tr>\n",
       "  </thead>\n",
       "  <tbody>\n",
       "    <tr>\n",
       "      <th>0</th>\n",
       "      <td>1</td>\n",
       "      <td>ACADEMY DINOSAUR</td>\n",
       "      <td>2005-07-08 19:03:15</td>\n",
       "      <td>0.99</td>\n",
       "      <td>2005-07-11 21:29:15</td>\n",
       "      <td>1</td>\n",
       "      <td>86</td>\n",
       "      <td>1</td>\n",
       "    </tr>\n",
       "    <tr>\n",
       "      <th>1</th>\n",
       "      <td>2</td>\n",
       "      <td>ACE GOLDFINGER</td>\n",
       "      <td>2005-08-01 04:24:47</td>\n",
       "      <td>4.99</td>\n",
       "      <td>2005-08-04 05:36:47</td>\n",
       "      <td>9</td>\n",
       "      <td>48</td>\n",
       "      <td>0</td>\n",
       "    </tr>\n",
       "    <tr>\n",
       "      <th>2</th>\n",
       "      <td>3</td>\n",
       "      <td>ADAPTATION HOLES</td>\n",
       "      <td>2005-07-27 01:21:19</td>\n",
       "      <td>2.99</td>\n",
       "      <td>2005-07-29 20:33:19</td>\n",
       "      <td>12</td>\n",
       "      <td>50</td>\n",
       "      <td>1</td>\n",
       "    </tr>\n",
       "    <tr>\n",
       "      <th>3</th>\n",
       "      <td>4</td>\n",
       "      <td>AFFAIR PREJUDICE</td>\n",
       "      <td>2005-07-12 02:40:41</td>\n",
       "      <td>2.99</td>\n",
       "      <td>2005-07-16 04:56:41</td>\n",
       "      <td>16</td>\n",
       "      <td>117</td>\n",
       "      <td>1</td>\n",
       "    </tr>\n",
       "    <tr>\n",
       "      <th>4</th>\n",
       "      <td>5</td>\n",
       "      <td>AFRICAN EGG</td>\n",
       "      <td>2005-05-28 07:53:38</td>\n",
       "      <td>2.99</td>\n",
       "      <td>2005-06-04 12:45:38</td>\n",
       "      <td>23</td>\n",
       "      <td>130</td>\n",
       "      <td>1</td>\n",
       "    </tr>\n",
       "  </tbody>\n",
       "</table>\n",
       "</div>"
      ],
      "text/plain": [
       "   film_id             title         rental_date  rental_rate  \\\n",
       "0        1  ACADEMY DINOSAUR 2005-07-08 19:03:15         0.99   \n",
       "1        2    ACE GOLDFINGER 2005-08-01 04:24:47         4.99   \n",
       "2        3  ADAPTATION HOLES 2005-07-27 01:21:19         2.99   \n",
       "3        4  AFFAIR PREJUDICE 2005-07-12 02:40:41         2.99   \n",
       "4        5       AFRICAN EGG 2005-05-28 07:53:38         2.99   \n",
       "\n",
       "          return_date  inventory_id  length  rented_in_may_2005  \n",
       "0 2005-07-11 21:29:15             1      86                   1  \n",
       "1 2005-08-04 05:36:47             9      48                   0  \n",
       "2 2005-07-29 20:33:19            12      50                   1  \n",
       "3 2005-07-16 04:56:41            16     117                   1  \n",
       "4 2005-06-04 12:45:38            23     130                   1  "
      ]
     },
     "metadata": {},
     "output_type": "display_data"
    },
    {
     "data": {
      "text/plain": [
       "(958, 8)"
      ]
     },
     "execution_count": 5,
     "metadata": {},
     "output_type": "execute_result"
    }
   ],
   "source": [
    "data1 = pd.read_sql_query(query1, engine)\n",
    "display(data1.head())\n",
    "data1.shape"
   ]
  },
  {
   "cell_type": "code",
   "execution_count": 6,
   "metadata": {},
   "outputs": [
    {
     "data": {
      "text/html": [
       "<div>\n",
       "<style scoped>\n",
       "    .dataframe tbody tr th:only-of-type {\n",
       "        vertical-align: middle;\n",
       "    }\n",
       "\n",
       "    .dataframe tbody tr th {\n",
       "        vertical-align: top;\n",
       "    }\n",
       "\n",
       "    .dataframe thead th {\n",
       "        text-align: right;\n",
       "    }\n",
       "</style>\n",
       "<table border=\"1\" class=\"dataframe\">\n",
       "  <thead>\n",
       "    <tr style=\"text-align: right;\">\n",
       "      <th></th>\n",
       "      <th>title</th>\n",
       "      <th>rented_in_may_2005</th>\n",
       "    </tr>\n",
       "  </thead>\n",
       "  <tbody>\n",
       "    <tr>\n",
       "      <th>0</th>\n",
       "      <td>ACADEMY DINOSAUR</td>\n",
       "      <td>1</td>\n",
       "    </tr>\n",
       "    <tr>\n",
       "      <th>1</th>\n",
       "      <td>ACE GOLDFINGER</td>\n",
       "      <td>0</td>\n",
       "    </tr>\n",
       "    <tr>\n",
       "      <th>2</th>\n",
       "      <td>ADAPTATION HOLES</td>\n",
       "      <td>1</td>\n",
       "    </tr>\n",
       "    <tr>\n",
       "      <th>3</th>\n",
       "      <td>AFFAIR PREJUDICE</td>\n",
       "      <td>1</td>\n",
       "    </tr>\n",
       "    <tr>\n",
       "      <th>4</th>\n",
       "      <td>AFRICAN EGG</td>\n",
       "      <td>1</td>\n",
       "    </tr>\n",
       "  </tbody>\n",
       "</table>\n",
       "</div>"
      ],
      "text/plain": [
       "              title  rented_in_may_2005\n",
       "0  ACADEMY DINOSAUR                   1\n",
       "1    ACE GOLDFINGER                   0\n",
       "2  ADAPTATION HOLES                   1\n",
       "3  AFFAIR PREJUDICE                   1\n",
       "4       AFRICAN EGG                   1"
      ]
     },
     "metadata": {},
     "output_type": "display_data"
    },
    {
     "data": {
      "text/plain": [
       "(958, 2)"
      ]
     },
     "execution_count": 6,
     "metadata": {},
     "output_type": "execute_result"
    }
   ],
   "source": [
    "data2 = pd.read_sql_query(query2, engine)\n",
    "display(data2.head())\n",
    "data2.shape"
   ]
  },
  {
   "cell_type": "code",
   "execution_count": 36,
   "metadata": {},
   "outputs": [
    {
     "data": {
      "text/plain": [
       "film_id               0\n",
       "title                 0\n",
       "rental_date           0\n",
       "rental_rate           0\n",
       "return_date           0\n",
       "inventory_id          0\n",
       "length                0\n",
       "rented_in_may_2005    0\n",
       "dtype: int64"
      ]
     },
     "execution_count": 36,
     "metadata": {},
     "output_type": "execute_result"
    }
   ],
   "source": [
    "data1.isna().sum()"
   ]
  },
  {
   "cell_type": "code",
   "execution_count": 7,
   "metadata": {},
   "outputs": [
    {
     "data": {
      "image/png": "[encoded data removed]",
      "text/plain": [
       "<Figure size 1000x800 with 2 Axes>"
      ]
     },
     "metadata": {},
     "output_type": "display_data"
    }
   ],
   "source": [
    "import matplotlib.pyplot as plt\n",
    "import seaborn as sns\n",
    "%matplotlib inline\n",
    "corr_matrix=data1.corr(method='pearson')  # default\n",
    "fig, ax = plt.subplots(figsize=(10, 8))\n",
    "ax = sns.heatmap(corr_matrix, annot=True)\n",
    "plt.show()"
   ]
  },
  {
   "cell_type": "code",
   "execution_count": 8,
   "metadata": {},
   "outputs": [
    {
     "data": {
      "text/plain": [
       "Series([], Name: rented_in_may_2005, dtype: int64)"
      ]
     },
     "metadata": {},
     "output_type": "display_data"
    },
    {
     "data": {
      "text/html": [
       "<div>\n",
       "<style scoped>\n",
       "    .dataframe tbody tr th:only-of-type {\n",
       "        vertical-align: middle;\n",
       "    }\n",
       "\n",
       "    .dataframe tbody tr th {\n",
       "        vertical-align: top;\n",
       "    }\n",
       "\n",
       "    .dataframe thead th {\n",
       "        text-align: right;\n",
       "    }\n",
       "</style>\n",
       "<table border=\"1\" class=\"dataframe\">\n",
       "  <thead>\n",
       "    <tr style=\"text-align: right;\">\n",
       "      <th></th>\n",
       "      <th>film_id</th>\n",
       "      <th>title</th>\n",
       "      <th>rental_date</th>\n",
       "      <th>rental_rate</th>\n",
       "      <th>return_date</th>\n",
       "      <th>inventory_id</th>\n",
       "      <th>length</th>\n",
       "    </tr>\n",
       "  </thead>\n",
       "  <tbody>\n",
       "  </tbody>\n",
       "</table>\n",
       "</div>"
      ],
      "text/plain": [
       "Empty DataFrame\n",
       "Columns: [film_id, title, rental_date, rental_rate, return_date, inventory_id, length]\n",
       "Index: []"
      ]
     },
     "metadata": {},
     "output_type": "display_data"
    }
   ],
   "source": [
    "y = data1[\"rented_in_may_2005\"]\n",
    "X = data1.drop(columns = [\"rented_in_may_2005\"], axis=1)\n",
    "display(y.head(0))\n",
    "display(X.head(0))"
   ]
  },
  {
   "cell_type": "code",
   "execution_count": 9,
   "metadata": {},
   "outputs": [],
   "source": [
    "from sklearn.model_selection import train_test_split\n",
    "X_train, X_test, y_train, y_test = train_test_split(X, y, test_size=0.2, random_state=1337)"
   ]
  },
  {
   "cell_type": "code",
   "execution_count": 10,
   "metadata": {},
   "outputs": [],
   "source": [
    "import numpy as np\n",
    "from sklearn.preprocessing import MinMaxScaler\n",
    "# from sklearn.preprocessing import StandardScaler\n",
    "X_train_num = X_train.select_dtypes(include = np.number)\n",
    "# Scaling data\n",
    "transformer = MinMaxScaler().fit(X_train_num) # need to keep transformer\n",
    "X_train_normalized = transformer.transform(X_train_num)\n",
    "X_train_norm = pd.DataFrame(X_train_normalized)"
   ]
  },
  {
   "cell_type": "code",
   "execution_count": 11,
   "metadata": {},
   "outputs": [
    {
     "data": {
      "text/html": [
       "<div>\n",
       "<style scoped>\n",
       "    .dataframe tbody tr th:only-of-type {\n",
       "        vertical-align: middle;\n",
       "    }\n",
       "\n",
       "    .dataframe tbody tr th {\n",
       "        vertical-align: top;\n",
       "    }\n",
       "\n",
       "    .dataframe thead th {\n",
       "        text-align: right;\n",
       "    }\n",
       "</style>\n",
       "<table border=\"1\" class=\"dataframe\">\n",
       "  <thead>\n",
       "    <tr style=\"text-align: right;\">\n",
       "      <th></th>\n",
       "      <th>film_id</th>\n",
       "      <th>rental_rate</th>\n",
       "      <th>inventory_id</th>\n",
       "      <th>length</th>\n",
       "    </tr>\n",
       "  </thead>\n",
       "  <tbody>\n",
       "    <tr>\n",
       "      <th>0</th>\n",
       "      <td>0.075150</td>\n",
       "      <td>0.0</td>\n",
       "      <td>0.074650</td>\n",
       "      <td>0.410072</td>\n",
       "    </tr>\n",
       "    <tr>\n",
       "      <th>1</th>\n",
       "      <td>0.109218</td>\n",
       "      <td>0.0</td>\n",
       "      <td>0.107706</td>\n",
       "      <td>0.050360</td>\n",
       "    </tr>\n",
       "    <tr>\n",
       "      <th>2</th>\n",
       "      <td>0.541082</td>\n",
       "      <td>0.5</td>\n",
       "      <td>0.540499</td>\n",
       "      <td>0.201439</td>\n",
       "    </tr>\n",
       "    <tr>\n",
       "      <th>3</th>\n",
       "      <td>0.128257</td>\n",
       "      <td>0.5</td>\n",
       "      <td>0.128503</td>\n",
       "      <td>0.956835</td>\n",
       "    </tr>\n",
       "    <tr>\n",
       "      <th>4</th>\n",
       "      <td>0.141283</td>\n",
       "      <td>0.0</td>\n",
       "      <td>0.142951</td>\n",
       "      <td>0.546763</td>\n",
       "    </tr>\n",
       "  </tbody>\n",
       "</table>\n",
       "</div>"
      ],
      "text/plain": [
       "    film_id  rental_rate  inventory_id    length\n",
       "0  0.075150          0.0      0.074650  0.410072\n",
       "1  0.109218          0.0      0.107706  0.050360\n",
       "2  0.541082          0.5      0.540499  0.201439\n",
       "3  0.128257          0.5      0.128503  0.956835\n",
       "4  0.141283          0.0      0.142951  0.546763"
      ]
     },
     "execution_count": 11,
     "metadata": {},
     "output_type": "execute_result"
    }
   ],
   "source": [
    "X_train_norm.columns = X_train_num.columns\n",
    "X_train_norm.head()"
   ]
  },
  {
   "cell_type": "code",
   "execution_count": 42,
   "metadata": {},
   "outputs": [],
   "source": [
    "# X_train_categorical = X_train.select_dtypes(include = np.object)\n",
    "# X_train_cat = pd.get_dummies(X_train_categorical, \n",
    "#                              columns=['title'],\n",
    "#                              drop_first=False)\n",
    "# X_train_cat.head()"
   ]
  },
  {
   "cell_type": "code",
   "execution_count": 43,
   "metadata": {},
   "outputs": [],
   "source": [
    "# X_train_transformed = np.concatenate([X_train_norm, X_train_cat], axis=1)"
   ]
  },
  {
   "cell_type": "code",
   "execution_count": 12,
   "metadata": {},
   "outputs": [],
   "source": [
    "from sklearn.linear_model import LogisticRegression\n",
    "classification = LogisticRegression(random_state=0, solver='saga',\n",
    "                  multi_class='multinomial').fit(X_train_norm, y_train)"
   ]
  },
  {
   "cell_type": "code",
   "execution_count": 13,
   "metadata": {},
   "outputs": [],
   "source": [
    "# for numericals\n",
    "X_test_num = X_test.select_dtypes(include = np.number)\n",
    "\n",
    "# Scaling data\n",
    "# we use the transformer that was trained on the training data\n",
    "X_test_normalized = transformer.transform(X_test_num)\n",
    "X_test_norm = pd.DataFrame(X_test_normalized)"
   ]
  },
  {
   "cell_type": "code",
   "execution_count": 46,
   "metadata": {},
   "outputs": [],
   "source": [
    "# # for categoricals\n",
    "# X_test_categorical = X_test.select_dtypes(include = np.object)\n",
    "# X_test_cat = pd.get_dummies(X_test_categorical, \n",
    "#                             columns=['title'],\n",
    "#                             drop_first=False)\n",
    "# # verify that dummies columns are in the same order and that the same column was dropped\n",
    "# display(list(zip(list(X_train_cat.columns),list(X_test_cat.columns))))\n",
    "# # not needed if you treat each dataframe with one_hot_encoder and save the encode (and the column names)\n",
    "\n",
    "# X_test_cat.head()"
   ]
  },
  {
   "cell_type": "code",
   "execution_count": 14,
   "metadata": {},
   "outputs": [
    {
     "name": "stderr",
     "output_type": "stream",
     "text": [
      "d:\\Python 3.10\\lib\\site-packages\\sklearn\\base.py:450: UserWarning: X does not have valid feature names, but LogisticRegression was fitted with feature names\n",
      "  warnings.warn(\n"
     ]
    },
    {
     "data": {
      "text/plain": [
       "array([1, 1, 1, 1, 1, 1, 1, 1, 1, 1, 1, 1, 1, 1, 1, 1, 1, 1, 1, 1, 1, 1,\n",
       "       1, 1, 1, 1, 1, 1, 1, 1, 1, 1, 1, 1, 1, 1, 1, 1, 1, 1, 1, 1, 1, 1,\n",
       "       1, 1, 1, 1, 1, 1, 1, 1, 1, 1, 1, 1, 1, 1, 1, 1, 1, 1, 1, 1, 1, 1,\n",
       "       1, 1, 1, 1, 1, 1, 1, 1, 1, 1, 1, 1, 1, 1, 1, 1, 1, 1, 1, 1, 1, 1,\n",
       "       1, 1, 1, 1, 1, 1, 1, 1, 1, 1, 1, 1, 1, 1, 1, 1, 1, 1, 1, 1, 1, 1,\n",
       "       1, 1, 1, 1, 1, 1, 1, 1, 1, 1, 1, 1, 1, 1, 1, 1, 1, 1, 1, 1, 1, 1,\n",
       "       1, 1, 1, 1, 1, 1, 1, 1, 1, 1, 1, 1, 1, 1, 1, 1, 1, 1, 1, 1, 1, 1,\n",
       "       1, 1, 1, 1, 1, 1, 1, 1, 1, 1, 1, 1, 1, 1, 1, 1, 1, 1, 1, 1, 1, 1,\n",
       "       1, 1, 1, 1, 1, 1, 1, 1, 1, 1, 1, 1, 1, 1, 1, 1], dtype=int64)"
      ]
     },
     "metadata": {},
     "output_type": "display_data"
    },
    {
     "name": "stderr",
     "output_type": "stream",
     "text": [
      "d:\\Python 3.10\\lib\\site-packages\\sklearn\\base.py:450: UserWarning: X does not have valid feature names, but LogisticRegression was fitted with feature names\n",
      "  warnings.warn(\n"
     ]
    },
    {
     "data": {
      "text/plain": [
       "0.734375"
      ]
     },
     "execution_count": 14,
     "metadata": {},
     "output_type": "execute_result"
    }
   ],
   "source": [
    "predictions = classification.predict(X_test_norm)\n",
    "display(predictions)\n",
    "classification.score(X_test_norm, y_test)"
   ]
  },
  {
   "cell_type": "code",
   "execution_count": null,
   "metadata": {},
   "outputs": [],
   "source": [
    "data3 = pd.read_sql_query(query3, engine)\n",
    "display(data3.head())\n",
    "data3.shape"
   ]
  }
 ],
 "metadata": {
  "kernelspec": {
   "display_name": "Python 3.10.2 64-bit",
   "language": "python",
   "name": "python3"
  },
  "language_info": {
   "codemirror_mode": {
    "name": "ipython",
    "version": 3
   },
   "file_extension": ".py",
   "mimetype": "text/x-python",
   "name": "python",
   "nbconvert_exporter": "python",
   "pygments_lexer": "ipython3",
   "version": "3.10.2"
  },
  "orig_nbformat": 4,
  "vscode": {
   "interpreter": {
    "hash": "1acc24bd1901f9ae8c29efb6830fcc1ca9fe0219dd00f8f1dc1b91856def15a9"
   }
  }
 },
 "nbformat": 4,
 "nbformat_minor": 2
}
